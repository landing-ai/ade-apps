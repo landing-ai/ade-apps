{
  "cells": [
    {
      "cell_type": "markdown",
      "id": "771f0fdb",
      "metadata": {
        "id": "771f0fdb"
      },
      "source": [
        "# Smart Document Auditor Notebook\n",
        "\n",
        "This notebook accompanies the blog post on building a **Smart Document Auditor**. It demonstrates how to use **BeautifulSoup** to parse HTML, how to download a publicly available financial report as a PDF, and how to integrate **LandingAI's Agentic Document Extraction (ADE)** to extract structured data from that PDF.\n",
        "\n",
        "> **Note:** Due to environment constraints, network calls to external sites may return an HTTP 403 error. The ADE library (`agentic-doc`) is also not available in this environment. Code cells that involve web requests or ADE parsing are therefore examples only; they need to be run in an environment with internet access and the required library installed."
      ]
    },
    {
      "cell_type": "markdown",
      "id": "8f969065",
      "metadata": {
        "id": "8f969065"
      },
      "source": [
        "## Setup\n",
        "\n",
        "Install the required libraries if you haven't already. BeautifulSoup is part of the `bs4` package, and `requests` is used for HTTP requests. The ADE library (`agentic-doc`) is only available from LandingAI; you would install it via:\n",
        "\n",
        "```bash\n",
        "pip install bs4 requests agentic-doc\n",
        "```\n",
        "\n",
        "You also need to set your LandingAI API key in an environment variable called `VISION_AGENT_API_KEY` before using ADE."
      ]
    },
    {
      "cell_type": "code",
      "execution_count": null,
      "id": "3c875b27",
      "metadata": {
        "colab": {
          "base_uri": "https://localhost:8080/"
        },
        "id": "3c875b27",
        "outputId": "bb8b7532-db0d-44fe-ded6-f511ca6ed83b"
      },
      "outputs": [
        {
          "output_type": "stream",
          "name": "stdout",
          "text": [
            "Libraries imported successfully.\n"
          ]
        }
      ],
      "source": [
        "# Import required libraries\n",
        "try:\n",
        "    from bs4 import BeautifulSoup\n",
        "    import requests\n",
        "    print('Libraries imported successfully.')\n",
        "except ImportError as e:\n",
        "    print('You may need to install missing libraries:', e)\n"
      ]
    },
    {
      "cell_type": "markdown",
      "id": "0e90922c",
      "metadata": {
        "id": "0e90922c"
      },
      "source": [
        "## Parsing HTML with BeautifulSoup\n",
        "\n",
        "Below we construct a simple HTML document and use BeautifulSoup to find all the links. This demonstrates the basic API of BeautifulSoup."
      ]
    },
    {
      "cell_type": "code",
      "execution_count": null,
      "id": "ffb8cb7b",
      "metadata": {
        "colab": {
          "base_uri": "https://localhost:8080/"
        },
        "id": "ffb8cb7b",
        "outputId": "4fbab3d3-529f-4415-82c3-988cc8c7f1d4"
      },
      "outputs": [
        {
          "output_type": "stream",
          "name": "stdout",
          "text": [
            "Extracted links: ['http://example.com/elsie', 'http://example.com/lacie', 'http://example.com/tillie']\n"
          ]
        }
      ],
      "source": [
        "from bs4 import BeautifulSoup\n",
        "\n",
        "html_doc = '''\n",
        "<html><head><title>The Dormouse's story</title></head>\n",
        "<body>\n",
        "<p class=\"title\"><b>The Dormouse's story</b></p>\n",
        "<p class=\"story\">Once upon a time there were three little sisters; and their names were\n",
        "    <a href=\"http://example.com/elsie\" class=\"sister\" id=\"link1\">Elsie</a>,\n",
        "    <a href=\"http://example.com/lacie\" class=\"sister\" id=\"link2\">Lacie</a> and\n",
        "    <a href=\"http://example.com/tillie\" class=\"sister\" id=\"link3\">Tillie</a>;\n",
        "</p>\n",
        "</body></html>'''\n",
        "\n",
        "soup = BeautifulSoup(html_doc, 'html.parser')\n",
        "links = [a.get('href') for a in soup.find_all('a')]\n",
        "print('Extracted links:', links)\n"
      ]
    },
    {
      "cell_type": "markdown",
      "id": "affd1e49",
      "metadata": {
        "id": "affd1e49"
      },
      "source": [
        "## Downloading a PDF financial statement\n",
        "\n",
        "In our example we locate Apple’s FY2024 Q1 consolidated financial statements using BeautifulSoup. Rather than scraping a Form 10‑K from EDGAR, we parse Apple’s press‑release page to discover the link to the financial statements PDF. This approach demonstrates how BeautifulSoup can be used to find relevant documents on a company’s website."
      ]
    },
    {
      "cell_type": "code",
      "execution_count": null,
      "id": "df593d8e",
      "metadata": {
        "colab": {
          "base_uri": "https://localhost:8080/"
        },
        "id": "df593d8e",
        "outputId": "d98c728e-a292-4191-e605-28123a031544"
      },
      "outputs": [
        {
          "output_type": "stream",
          "name": "stdout",
          "text": [
            "Found PDF URL: https://www.apple.com/newsroom/pdfs/fy2024-q1/FY24_Q1_Consolidated_Financial_Statements.pdf\n"
          ]
        }
      ],
      "source": [
        "import requests\n",
        "from bs4 import BeautifulSoup\n",
        "\n",
        "press_release_url = \"https://www.apple.com/newsroom/2024/02/apple-reports-first-quarter-results/\"\n",
        "\n",
        "headers = {\n",
        "    \"User-Agent\": \"SmartDocumentAuditor/1.0 (ankit.khare@landing.ai)\",\n",
        "    \"Accept-Language\": \"en-US,en;q=0.9\",\n",
        "}\n",
        "\n",
        "resp = requests.get(press_release_url, headers=headers)\n",
        "resp.raise_for_status()\n",
        "\n",
        "soup = BeautifulSoup(resp.text, \"html.parser\")\n",
        "\n",
        "# Find the link under the 'Consolidated Financial Statements' heading\n",
        "pdf_link = None\n",
        "for link in soup.find_all(\"a\"):\n",
        "    if \"View PDF\" in link.get_text(strip=True):\n",
        "        pdf_link = link[\"href\"]\n",
        "        break\n",
        "\n",
        "if pdf_link:\n",
        "    # If the link is relative, prepend the domain\n",
        "    if pdf_link.startswith(\"/\"):\n",
        "        pdf_url = \"https://www.apple.com\" + pdf_link\n",
        "    else:\n",
        "        pdf_url = pdf_link\n",
        "    print(\"Found PDF URL:\", pdf_url)\n",
        "else:\n",
        "    print(\"Could not find the PDF link.\")"
      ]
    },
    {
      "cell_type": "markdown",
      "id": "bb45f478",
      "metadata": {
        "id": "bb45f478"
      },
      "source": [
        "## Integrating ADE for Document Extraction\n",
        "\n",
        "You can use LandingAI's Agentic Document Extraction (ADE) library to parse the pdf directly from the URL and extract structured data. ADE accepts either a local file path or a direct PDF URL, so you can choose the approach that suits your environment. The extraction_model parameter is an optional argument that provides the Pydantic model schema for field extraction. To know more about the available options, check - https://docs.landing.ai/ade/ade-parse-docs"
      ]
    },
    {
      "cell_type": "code",
      "execution_count": null,
      "id": "e8f88b67",
      "metadata": {
        "colab": {
          "base_uri": "https://localhost:8080/"
        },
        "id": "e8f88b67",
        "outputId": "627a5398-9b6c-4879-818d-58e3492f7af5"
      },
      "outputs": [
        {
          "output_type": "stream",
          "name": "stdout",
          "text": [
            "\u001b[2m2025-08-04 23:17:31\u001b[0m [info   \u001b[0m] \u001b[1mAPI key is valid.             \u001b[0m [\u001b[0m\u001b[1m\u001b[34magentic_doc.utils\u001b[0m]\u001b[0m (utils.py:42)\n",
            "\u001b[2m2025-08-04 23:17:31\u001b[0m [info   \u001b[0m] \u001b[1mParsing 1 documents           \u001b[0m [\u001b[0m\u001b[1m\u001b[34magentic_doc.parse\u001b[0m]\u001b[0m (parse.py:280)\n",
            "\u001b[2m2025-08-04 23:17:31\u001b[0m [info   \u001b[0m] \u001b[1mDownloading file from 'https://www.apple.com/newsroom/pdfs/fy2024-q1/FY24_Q1_Consolidated_Financial_Statements.pdf' to '/tmp/tmp2es4novp/FY24_Q1_Consolidated_Financial_Statements.pdf'\u001b[0m [\u001b[0m\u001b[1m\u001b[34magentic_doc.utils\u001b[0m]\u001b[0m (utils.py:442)\n"
          ]
        },
        {
          "output_type": "stream",
          "name": "stderr",
          "text": [
            "\rParsing documents:   0%|          | 0/1 [00:00<?, ?it/s]"
          ]
        },
        {
          "output_type": "stream",
          "name": "stdout",
          "text": [
            "HTTP Request: GET https://www.apple.com/newsroom/pdfs/fy2024-q1/FY24_Q1_Consolidated_Financial_Statements.pdf \"HTTP/1.1 200 OK\" (_client.py:1025)\n",
            "\u001b[2m2025-08-04 23:17:31\u001b[0m [info   \u001b[0m] \u001b[1mSplitting PDF: '/tmp/tmp2es4novp/FY24_Q1_Consolidated_Financial_Statements.pdf' into 0 parts under '/tmp/tmp578bpuc2'\u001b[0m [\u001b[0m\u001b[1m\u001b[34magentic_doc.utils\u001b[0m]\u001b[0m (utils.py:236)\n",
            "\u001b[2m2025-08-04 23:17:31\u001b[0m [info   \u001b[0m] \u001b[1mCreated /tmp/tmp578bpuc2/FY24_Q1_Consolidated_Financial_Statements_1.pdf\u001b[0m [\u001b[0m\u001b[1m\u001b[34magentic_doc.utils\u001b[0m]\u001b[0m (utils.py:252)\n",
            "\u001b[2m2025-08-04 23:17:31\u001b[0m [info   \u001b[0m] \u001b[1mStart parsing document part: 'File name: FY24_Q1_Consolidated_Financial_Statements_1.pdf\tPage: [0:2]'\u001b[0m [\u001b[0m\u001b[1m\u001b[34magentic_doc.parse\u001b[0m]\u001b[0m (parse.py:670)\n"
          ]
        },
        {
          "output_type": "stream",
          "name": "stderr",
          "text": [
            "\n",
            "Parsing document parts from 'FY24_Q1_Consolidated_Financial_Statements.pdf':   0%|          | 0/1 [00:00<?, ?it/s]\u001b[A"
          ]
        },
        {
          "output_type": "stream",
          "name": "stdout",
          "text": [
            "HTTP Request: POST https://api.va.landing.ai/v1/tools/agentic-document-analysis \"HTTP/1.1 200 OK\" (_client.py:1025)\n",
            "\u001b[2m2025-08-04 23:17:56\u001b[0m [info   \u001b[0m] \u001b[1mTime taken to successfully parse a document chunk: 24.98 seconds\u001b[0m [\u001b[0m\u001b[1m\u001b[34magentic_doc.parse\u001b[0m]\u001b[0m (parse.py:823)\n",
            "\u001b[2m2025-08-04 23:17:56\u001b[0m [info   \u001b[0m] \u001b[1mSuccessfully parsed document part: 'File name: FY24_Q1_Consolidated_Financial_Statements_1.pdf\tPage: [0:2]'\u001b[0m [\u001b[0m\u001b[1m\u001b[34magentic_doc.parse\u001b[0m]\u001b[0m (parse.py:679)\n"
          ]
        },
        {
          "output_type": "stream",
          "name": "stderr",
          "text": [
            "\n",
            "Parsing document parts from 'FY24_Q1_Consolidated_Financial_Statements.pdf': 100%|██████████| 1/1 [00:24<00:00, 24.99s/it]\n",
            "Parsing documents: 100%|██████████| 1/1 [00:25<00:00, 25.36s/it]"
          ]
        },
        {
          "output_type": "stream",
          "name": "stdout",
          "text": [
            "Extracted metrics: total_revenue=119575000000.0 net_income=33916000000.0 diluted_eps=2.18\n",
            "ADE integration code goes here.\n"
          ]
        },
        {
          "output_type": "stream",
          "name": "stderr",
          "text": [
            "\n"
          ]
        }
      ],
      "source": [
        "# Example code for using ADE to extract financial metrics\n",
        "from pydantic import BaseModel, Field\n",
        "from agentic_doc.parse import parse\n",
        "import os\n",
        "\n",
        "class FinancialMetrics(BaseModel):\n",
        "    total_revenue: float = Field(description=\"Total revenue in USD\")\n",
        "    net_income: float = Field(description=\"Net income in USD\")\n",
        "    diluted_eps: float = Field(description=\"Diluted earnings per share\")\n",
        "\n",
        "os.environ[\"VISION_AGENT_API_KEY\"] = \"MWk1bjd1aTJ5cHRlMGZoZGdsY2hrOjNGV3RIVFJxak1ZRkF1Q3pLeUVqOHluQVFKWkJ0SUc4\"\n",
        "\n",
        "# Parse the PDF directly from the URL\n",
        "results = parse(pdf_url, extraction_model=FinancialMetrics)"
      ]
    },
    {
      "cell_type": "markdown",
      "id": "88057486",
      "metadata": {
        "id": "88057486"
      },
      "source": [
        "## Analysing the extracted data\n",
        "\n",
        "After you have extracted the key metrics with ADE, you can perform your own analysis. For example, you might compute year‑over‑year growth in revenue or profit margins, or compare the values against analyst forecasts. Because the extraction step is not run here, the example uses dummy data."
      ]
    },
    {
      "cell_type": "code",
      "execution_count": null,
      "id": "7237ab45",
      "metadata": {
        "colab": {
          "base_uri": "https://localhost:8080/"
        },
        "id": "7237ab45",
        "outputId": "f77b2479-82d8-4899-d10f-194e7c2cd391"
      },
      "outputs": [
        {
          "output_type": "stream",
          "name": "stdout",
          "text": [
            "Extracted metrics: total_revenue=119575000000.0 net_income=33916000000.0 diluted_eps=2.18\n",
            "Total revenue: $119.58B\n",
            "Net income: $33.92B\n",
            "Diluted EPS: 2.18\n",
            "Profit margin: 28.36%\n"
          ]
        }
      ],
      "source": [
        "# After calling parse()\n",
        "metrics = results[0].extraction\n",
        "print(\"Extracted metrics:\", metrics)\n",
        "\n",
        "# Access fields as attributes, not dict keys\n",
        "revenue = metrics.total_revenue\n",
        "net_income = metrics.net_income\n",
        "eps = metrics.diluted_eps\n",
        "\n",
        "profit_margin = net_income / revenue\n",
        "\n",
        "print(f\"Total revenue: ${revenue/1e9:.2f}B\")\n",
        "print(f\"Net income: ${net_income/1e9:.2f}B\")\n",
        "print(f\"Diluted EPS: {eps:.2f}\")\n",
        "print(f\"Profit margin: {profit_margin:.2%}\")\n"
      ]
    },
    {
      "cell_type": "code",
      "source": [],
      "metadata": {
        "id": "vemVe9syYX1X"
      },
      "id": "vemVe9syYX1X",
      "execution_count": null,
      "outputs": []
    }
  ],
  "metadata": {
    "colab": {
      "provenance": []
    },
    "language_info": {
      "name": "python"
    },
    "kernelspec": {
      "name": "python3",
      "display_name": "Python 3"
    }
  },
  "nbformat": 4,
  "nbformat_minor": 5
}